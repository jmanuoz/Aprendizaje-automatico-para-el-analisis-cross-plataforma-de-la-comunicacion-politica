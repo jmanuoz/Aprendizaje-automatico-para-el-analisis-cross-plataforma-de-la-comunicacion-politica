{
  "cells": [
    {
      "cell_type": "code",
      "execution_count": 1,
      "id": "b8263b47",
      "metadata": {
        "id": "b8263b47"
      },
      "outputs": [],
      "source": [
        "import pandas as pd"
      ]
    },
    {
      "cell_type": "code",
      "execution_count": 3,
      "id": "648bac65",
      "metadata": {
        "id": "648bac65"
      },
      "outputs": [],
      "source": [
        "posts = pd.read_csv('posts_con_topicos.csv')"
      ]
    },
    {
      "cell_type": "code",
      "execution_count": 4,
      "id": "ebdec399",
      "metadata": {
        "id": "ebdec399"
      },
      "outputs": [],
      "source": [
        "user_id = {'cristinafkirchner': \"cfk\", \n",
        "'mauriciomacri': \"macri\", \n",
        "'kicillofok': \"kicillof\", \n",
        "'mariuvidal':  \"vidal\", \n",
        "'santiagoacafiero':  \"cafiero\", \n",
        "'horaciorodriguezlarreta': \"larreta\", \n",
        "'patobullrich': \"pbullrich\", \n",
        "'elisalilitacarrio': \"carrio\", \n",
        "'wadodecorrido': \"wado\", \n",
        "'gugalusto': \"lusto\", \n",
        "'gabicerru': \"carruti\", \n",
        "'marioraulnegri': \"negri\", \n",
        "'diegosantilliok': \"satilli\", \n",
        "'luisalfredojuez': \"juez\", \n",
        "'jorgemacri': \"jmacri\", \n",
        "'facundomoyanook': \"moyano\", \n",
        "'vikidonda': \"donda\", \n",
        "'waldowolff': \"wolff\", \n",
        "'rody.suarez': \"suarez\", \n",
        "'leon_grosso': \"grosso\", \n",
        "'fernandoiglesias1957':\"iglesias\" , \n",
        "'cristianritondo': \"titondo\", \n",
        "'bordetgustavo': \"bordet\", \n",
        "'sergiounac': \"unac\", \n",
        "'ocanagraciela': \"ocana\", \n",
        "'itai_hagman': \"hagman\", \n",
        "'anabelfsagasti': \"sagasti\", \n",
        "'gustavo_posse': \"posse\", \n",
        "'nestor.grindetti': \"grindetti\", \n",
        "'alfredocornejo': \"cornejo\", \n",
        "'oscar.parrilli': \"parrilli\", \n",
        "'gerardomoralesjujuy': \"morales\", \n",
        "'gildoinsfran': \"insfran\", \n",
        "'brendalisaustin': \"lisaustin\", \n",
        "'gabriel_katopodis': \"katopodis\", \n",
        "'omarperotti': \"perotti\", \n",
        "'alfredodeangeli': \"deangeli\", \n",
        "'fvallejoss': \"vallejos\", \n",
        "'joseluisgioja': \"gioja\", \n",
        "'juanluismanzur': \"manzur\", \n",
        "'maxiferraro': \"ferraro\", \n",
        "'luisnaidenoff': \"naidenoff\", \n",
        "'pablocarrook': \"carro\", \n",
        "'lucia.corpacci': \"corpacci\", \n",
        "'pyedlin': \"yedlin\", \n",
        "'humbertoschiavoni': \"hshiavioni\", \n",
        "'alfredoschiavoni': \"ashiavoni\", \n",
        "'vascodemendiguren': \"mendiguren\", \n",
        "'jromero58': \"romero\", \n",
        "'alferdezok': \"fernadez\", \n",
        "'LuisAlfredoJuez': \"juez\", \n",
        "'CFKArgentina': \"cfk\", \n",
        "'meugeniavidal': \"vidal\", \n",
        "'bullrichpatricia': \"pbullrish\", \n",
        "'WolffWaldo': \"wolff\", \n",
        "'GobernadorGerardoMorales': \"morales\", \n",
        "'GugaLusto': \"lusto\", \n",
        "'graciela.ocana': \"ocana\", \n",
        "'Mario.Raul.Negri': \"negri\", \n",
        "'Elisa.Lilita.Carrio': \"carrio\", \n",
        "'SantiCafiero': \"cafiero\", \n",
        "'faiglesias': \"iglesias\", \n",
        "'GabrielaCerruti': \"cerruti\", \n",
        "'CristianRitondo': \"ritondo\", \n",
        "'ItaiHagman': \"hagman\", \n",
        "'RodolfoSuarezMendoza': \"suarez\" , \n",
        "'DiegoColoSantilli': \"santilli\", \n",
        "'gustavoposse': \"posse\", \n",
        "'CornejoAlfredo': \"cornejo\", \n",
        "'sergio.unac': \"unac\", \n",
        "'GildoInsfranGobernador': \"insfran\" , \n",
        "'nestorgrindetti': \"grindetti\", \n",
        "'ferraromaxi': \"ferraro\", \n",
        "'JuanManzurOficial': \"manzur\", \n",
        "'FacundoMoyanoOficial': \"moyano\", \n",
        "'AnabelFSagasti': \"sagasti\", \n",
        "'grossoleonardo': \"grosso\", \n",
        "'FernandaVallejosUC': \"vallejos\", \n",
        "'corpaccilucia': \"corpacci\", \n",
        "'OscarParrilliNQN': \"parrilli\", \n",
        "'gabrielkatopodis': \"katopodis\", \n",
        "'PabloYedlinOficial': \"yedlin\", \n",
        "'humberto.schiavoni': \"hshiavoni\", \n",
        "'dmvasco': \"vasco\", \n",
        "'JorgeAntonioRomero2017': \"romero\" , \n",
        "'PabloCarroOk': \"carro\", \n",
        "'LuciaCorpacci': \"corpacci\", \n",
        "'Leonardo_Grosso': \"grosso\", \n",
        "'Facundo_Moyano':  \"moyano\", \n",
        "'jromero581': \"romero\", \n",
        "'Kicillofok': \"kicillof\", \n",
        "'bordet': \"bordet\", \n",
        "'insfran_gildo': \"insfran\", \n",
        "'JuanManzurOK': \"manzur\", \n",
        "'alferdez': \"fernandez\", \n",
        "'gkatopodis': \"katopodis\", \n",
        "'OscarParrilli': \"parrilli\", \n",
        "'Maxiferraro': \"ferraro\", \n",
        "'FerIglesias': \"iglesias\", \n",
        "'ljuez': \"juez\", \n",
        "'gracielaocana': \"ocana\" , \n",
        "'Alfreschiavoni': \"ashiavoni\", \n",
        "'GerardoMorales': \"morales\", \n",
        "'rodysuarez': \"suarez\", \n",
        "'horaciorlarreta': \"larreta\", \n",
        "'SchiavoniH': \"hshiavoni\", \n",
        "'diegosantilli': \"santilli\", \n",
        "'elisacarrio': \"carrio\", \n",
        "'Nestorgrindetti': \"grindetti\", \n",
        "'PatoBullrich': \"pbullrich\"}\n",
        "\n",
        "\n",
        "posts[\"user\"] = [user_id[user] for user in posts.User_Name]"
      ]
    },
    {
      "cell_type": "code",
      "execution_count": 5,
      "id": "67a3a79b",
      "metadata": {
        "id": "67a3a79b"
      },
      "outputs": [],
      "source": [
        "proportions = {}\n",
        "for user in posts.user.unique():\n",
        "    prop_user = {}\n",
        "    for red in posts[posts.user == user].red.unique():\n",
        "        prop_user[red] = posts.groupby(by=[\"user\",\"red\"]).topic1.count()[user][red] / posts.groupby(by=[\"user\",\"red\"]).topic1.count()[user].sum()\n",
        "        proportions[user] = prop_user"
      ]
    },
    {
      "cell_type": "code",
      "execution_count": 6,
      "id": "2f9a4af7",
      "metadata": {
        "id": "2f9a4af7"
      },
      "outputs": [],
      "source": [
        "data_norm = posts.groupby(by=[\"user\",\"topic1\",\"red\"]).size()"
      ]
    },
    {
      "cell_type": "code",
      "execution_count": 7,
      "id": "46c40844",
      "metadata": {
        "id": "46c40844"
      },
      "outputs": [],
      "source": [
        "from tqdm import tqdm"
      ]
    },
    {
      "cell_type": "code",
      "execution_count": 8,
      "id": "32a16374",
      "metadata": {
        "colab": {
          "base_uri": "https://localhost:8080/",
          "height": 277
        },
        "id": "32a16374",
        "outputId": "d7826eff-56a5-404b-ecc8-d26407f26b4a"
      },
      "outputs": [
        {
          "output_type": "display_data",
          "data": {
            "text/plain": [
              "user       topic1  red\n",
              "ashiavoni  0.0     ig     1.0\n",
              "           3.0     fb     1.0\n",
              "                   tw     1.0\n",
              "           4.0     fb     2.0\n",
              "                   ig     2.0\n",
              "dtype: float64"
            ]
          },
          "metadata": {}
        },
        {
          "output_type": "stream",
          "name": "stderr",
          "text": [
            "100%|██████████| 57/57 [02:00<00:00,  2.12s/it]\n"
          ]
        },
        {
          "output_type": "display_data",
          "data": {
            "text/plain": [
              "user       topic1  red\n",
              "ashiavoni  0.0     ig     4.069307\n",
              "           3.0     fb     3.396694\n",
              "                   tw     2.174603\n",
              "           4.0     fb     6.793388\n",
              "                   ig     8.138614\n",
              "dtype: float64"
            ]
          },
          "metadata": {}
        }
      ],
      "source": [
        "data_norm = posts.groupby(by=[\"user\",\"topic1\",\"red\"]).size()\n",
        "data_norm = data_norm.astype(float)\n",
        "display(data_norm.head())\n",
        "for user in tqdm(posts.user.unique()):\n",
        "    for topic in posts[posts.user== user].topic1.unique():\n",
        "        for red in posts[(posts.user== user) & (posts.topic1== topic)].red.unique():\n",
        "            data_norm[user,topic,red]/= proportions[user][red]\n",
        "display(data_norm.head())"
      ]
    },
    {
      "cell_type": "code",
      "execution_count": 9,
      "id": "b06f0e9c",
      "metadata": {
        "id": "b06f0e9c"
      },
      "outputs": [],
      "source": [
        "import numpy as np"
      ]
    },
    {
      "cell_type": "code",
      "execution_count": 10,
      "id": "2891991e",
      "metadata": {
        "id": "2891991e"
      },
      "outputs": [],
      "source": [
        "df_norm = pd.DataFrame(data = [[i[0],i[1],i[2]] for i in data_norm.index.values], columns = [\"user\",\"topic1\",\"red\"])\n",
        "df_norm[\"posts\"] = data_norm.tolist() "
      ]
    },
    {
      "cell_type": "code",
      "execution_count": 11,
      "id": "147c9f1d",
      "metadata": {
        "id": "147c9f1d"
      },
      "outputs": [],
      "source": [
        "topic1_FT = posts[posts['lado']=='FT']['topic1'].value_counts()\n",
        "topic1_PRO = posts[posts['lado']=='PRO']['topic1'].value_counts()\n",
        "topics = []\n",
        "ft=[]\n",
        "pro=[]\n",
        "diff=[]\n",
        "for i in range(0,1028):\n",
        "    topics.append(i)\n",
        "    if i in topic1_FT.keys():\n",
        "        ft.append(topic1_FT[i])\n",
        "    else:\n",
        "        ft.append(0)\n",
        "    \n",
        "    if i in topic1_PRO.keys():\n",
        "        pro.append(topic1_PRO[i])\n",
        "    else:\n",
        "        pro.append(0)\n",
        "    diff.append(abs(pro[i]-ft[i]))\n",
        "    \n",
        "d={'Oficialismo':ft,'Oposición':pro,'Diferencia':diff}\n",
        "frecuencyu_diff = pd.DataFrame(data=d,index=topics)\n",
        "\n",
        "frecuencyu_diff['total'] = frecuencyu_diff['Oficialismo']+frecuencyu_diff['Oposición']\n",
        "frecuencyu_diff['porcentaje_ft'] = frecuencyu_diff['Oficialismo']/frecuencyu_diff['total']\n",
        "frecuencyu_diff['porcentaje_op'] = frecuencyu_diff['Oposición']/frecuencyu_diff['total']\n",
        "\n",
        "comunes = frecuencyu_diff[(frecuencyu_diff['porcentaje_ft'] < 0.55) & (frecuencyu_diff['porcentaje_op'] < 0.55)]\n",
        "propios = frecuencyu_diff[(frecuencyu_diff['porcentaje_ft'] > 0.95) | (frecuencyu_diff['porcentaje_op'] > 0.95)]"
      ]
    },
    {
      "cell_type": "code",
      "execution_count": 12,
      "id": "9d73a51a",
      "metadata": {
        "colab": {
          "base_uri": "https://localhost:8080/"
        },
        "id": "9d73a51a",
        "outputId": "3733374a-defd-499e-bdb2-bf20cd2cbc27"
      },
      "outputs": [
        {
          "output_type": "stream",
          "name": "stderr",
          "text": [
            "100%|██████████| 130/130 [00:00<00:00, 267.93it/s]"
          ]
        },
        {
          "output_type": "stream",
          "name": "stdout",
          "text": [
            "{'ig': 36, 'fb': 21, 'tw': 73}\n"
          ]
        },
        {
          "output_type": "stream",
          "name": "stderr",
          "text": [
            "\n"
          ]
        }
      ],
      "source": [
        "rv = {red:0 for red in df_norm.red.unique()}\n",
        "for topic in tqdm(comunes.index):\n",
        "    rv[df_norm[df_norm.topic1 == topic].groupby(by=\"red\").posts.sum().idxmax()] += 1\n",
        "print(rv)"
      ]
    },
    {
      "cell_type": "code",
      "execution_count": 13,
      "id": "0637ea1e",
      "metadata": {
        "colab": {
          "base_uri": "https://localhost:8080/"
        },
        "id": "0637ea1e",
        "outputId": "fae80232-c943-4697-d58e-6b208bb43bbb"
      },
      "outputs": [
        {
          "output_type": "stream",
          "name": "stderr",
          "text": [
            "100%|██████████| 44/44 [00:00<00:00, 602.18it/s]"
          ]
        },
        {
          "output_type": "stream",
          "name": "stdout",
          "text": [
            "{'ig': 18, 'fb': 15, 'tw': 11}\n"
          ]
        },
        {
          "output_type": "stream",
          "name": "stderr",
          "text": [
            "\n"
          ]
        }
      ],
      "source": [
        "rv = {red:0 for red in df_norm.red.unique()}\n",
        "for topic in tqdm(propios.index):\n",
        "    rv[df_norm[df_norm.topic1 == topic].groupby(by=\"red\").posts.sum().idxmax()] += 1\n",
        "print(rv)"
      ]
    },
    {
      "cell_type": "code",
      "execution_count": null,
      "id": "cf545ad4",
      "metadata": {
        "id": "cf545ad4"
      },
      "outputs": [],
      "source": [
        ""
      ]
    }
  ],
  "metadata": {
    "kernelspec": {
      "display_name": "Python 3",
      "language": "python",
      "name": "python3"
    },
    "language_info": {
      "codemirror_mode": {
        "name": "ipython",
        "version": 3
      },
      "file_extension": ".py",
      "mimetype": "text/x-python",
      "name": "python",
      "nbconvert_exporter": "python",
      "pygments_lexer": "ipython3",
      "version": "3.7.0"
    },
    "colab": {
      "name": "Topc2vec Clean norm.ipynb",
      "provenance": []
    }
  },
  "nbformat": 4,
  "nbformat_minor": 5
}