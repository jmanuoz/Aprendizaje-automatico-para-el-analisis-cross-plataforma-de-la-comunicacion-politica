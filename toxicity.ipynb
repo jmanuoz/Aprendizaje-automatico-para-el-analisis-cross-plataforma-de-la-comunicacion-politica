{
  "nbformat": 4,
  "nbformat_minor": 0,
  "metadata": {
    "colab": {
      "name": "toxicity.ipynb",
      "provenance": []
    },
    "kernelspec": {
      "name": "python3",
      "display_name": "Python 3"
    },
    "language_info": {
      "name": "python"
    }
  },
  "cells": [
    {
      "cell_type": "code",
      "execution_count": 1,
      "metadata": {
        "id": "8s5fA7pOT4eV"
      },
      "outputs": [],
      "source": [
        "import numpy as np\n",
        "import pandas as pd\n",
        "import matplotlib.pyplot as plt\n",
        "from scipy import stats"
      ]
    },
    {
      "cell_type": "code",
      "source": [
        "df_toxicity = pd.read_csv(\"polArg_toxicity_full.csv\")"
      ],
      "metadata": {
        "id": "whAxjRmBWOA3"
      },
      "execution_count": 2,
      "outputs": []
    },
    {
      "cell_type": "code",
      "source": [
        "plt.style.use('seaborn-deep')"
      ],
      "metadata": {
        "id": "4s4-VeA1fuQG"
      },
      "execution_count": 4,
      "outputs": []
    },
    {
      "cell_type": "code",
      "source": [
        "p = 0.7\n",
        "labels = ['Fb', 'Ig', 'Tw']\n",
        "x = np.arange(len(labels))\n",
        "width = 0.3\n",
        "\n",
        "plt.figure(figsize=(3, 3))\n",
        "plt.bar(x-width/2, df_toxicity[df_toxicity.toxicity < p].groupby(\"red\")['Likes'].mean().tolist(), \n",
        "             #yerr=df_toxicity[df_toxicity.toxicity < p].groupby(\"red\")['Likes'].std().tolist(),\n",
        "             width = width, label='no toxico (< p)', hatch='//')\n",
        "plt.bar(x+width/2, df_toxicity[df_toxicity.toxicity > p].groupby(\"red\")['Likes'].mean().tolist(), \n",
        "             #yerr=df_toxicity[df_toxicity.toxicity > p].groupby(\"red\")['Likes'].std().tolist(),\n",
        "             width = width, label='toxico (> p)')\n",
        "plt.xticks([0,1,2], labels, fontsize=15)\n",
        "plt.title(\"probability treshold: {}\".format(p))"
      ],
      "metadata": {
        "colab": {
          "base_uri": "https://localhost:8080/",
          "height": 249
        },
        "id": "Px-fC-EoefHG",
        "outputId": "d8ffbb59-e75e-4548-89ca-f737fbdfe1f0"
      },
      "execution_count": 5,
      "outputs": [
        {
          "output_type": "execute_result",
          "data": {
            "text/plain": [
              "Text(0.5, 1.0, 'probability treshold: 0.7')"
            ]
          },
          "metadata": {},
          "execution_count": 5
        },
        {
          "output_type": "display_data",
          "data": {
            "text/plain": [
              "<Figure size 216x216 with 1 Axes>"
            ],
            "image/png": "[encoded data removed]"
          },
          "metadata": {
            "needs_background": "light"
          }
        }
      ]
    },
    {
      "cell_type": "code",
      "source": [
        "for red in df_toxicity.red.unique():\n",
        "    print(red)\n",
        "    print(stats.spearmanr(df_toxicity[df_toxicity.red == red].Likes,\n",
        "                          df_toxicity[df_toxicity.red == red].severe_toxicity))"
      ],
      "metadata": {
        "colab": {
          "base_uri": "https://localhost:8080/"
        },
        "id": "tO2I01vWfZWh",
        "outputId": "d192c11f-a5b1-4ff8-dec7-799abdca1f64"
      },
      "execution_count": 7,
      "outputs": [
        {
          "output_type": "stream",
          "name": "stdout",
          "text": [
            "ig\n",
            "SpearmanrResult(correlation=-0.007790174581567056, pvalue=0.3981284288794572)\n",
            "fb\n",
            "SpearmanrResult(correlation=0.07949168270165503, pvalue=6.139549312735303e-24)\n",
            "tw\n",
            "SpearmanrResult(correlation=0.14845687561743093, pvalue=1.6705840704690797e-271)\n"
          ]
        }
      ]
    },
    {
      "cell_type": "code",
      "source": [
        ""
      ],
      "metadata": {
        "id": "PsJaOoozf5nB"
      },
      "execution_count": null,
      "outputs": []
    }
  ]
}